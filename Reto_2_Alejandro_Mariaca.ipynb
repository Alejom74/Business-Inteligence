{
  "nbformat": 4,
  "nbformat_minor": 0,
  "metadata": {
    "colab": {
      "provenance": [],
      "authorship_tag": "ABX9TyOU2BYfH/BCVjW0vObz3Rul",
      "include_colab_link": true
    },
    "kernelspec": {
      "name": "python3",
      "display_name": "Python 3"
    },
    "language_info": {
      "name": "python"
    }
  },
  "cells": [
    {
      "cell_type": "markdown",
      "metadata": {
        "id": "view-in-github",
        "colab_type": "text"
      },
      "source": [
        "<a href=\"https://colab.research.google.com/github/Alejom74/Business-Inteligence/blob/main/Reto_2_Alejandro_Mariaca.ipynb\" target=\"_parent\"><img src=\"https://colab.research.google.com/assets/colab-badge.svg\" alt=\"Open In Colab\"/></a>"
      ]
    },
    {
      "cell_type": "code",
      "execution_count": null,
      "metadata": {
        "id": "928MnNyfilGW"
      },
      "outputs": [],
      "source": []
    },
    {
      "cell_type": "markdown",
      "source": [
        "0. Se procede con la carga de las librerias de trabajo"
      ],
      "metadata": {
        "id": "KCytZaqom9vg"
      }
    },
    {
      "cell_type": "code",
      "source": [
        "import numpy as np\n",
        "import pandas as pd\n",
        "\n",
        "#Librerías del árbol\n",
        "from  sklearn import tree\n",
        "from sklearn.tree import DecisionTreeClassifier\n",
        "from sklearn.metrics import confusion_matrix\n",
        "\n",
        "#Conectar al Drive\n",
        "from google.colab import drive\n",
        "drive.mount('/content/drive')"
      ],
      "metadata": {
        "colab": {
          "base_uri": "https://localhost:8080/"
        },
        "id": "fHlNqwx2689t",
        "outputId": "1c86f567-7802-4bd3-b925-d130271d48de"
      },
      "execution_count": null,
      "outputs": [
        {
          "output_type": "stream",
          "name": "stdout",
          "text": [
            "Drive already mounted at /content/drive; to attempt to forcibly remount, call drive.mount(\"/content/drive\", force_remount=True).\n"
          ]
        }
      ]
    },
    {
      "cell_type": "markdown",
      "source": [
        "1. Se procede con la carga de los datos"
      ],
      "metadata": {
        "id": "IIrFJEJjnKF3"
      }
    },
    {
      "cell_type": "code",
      "source": [
        "nxl =\"/content/2. CollegeAdmisions_Int_M.xlsx\"\n",
        "XDB = pd.read_excel(nxl, sheet_name=0)\n",
        "XDB=XDB.dropna()\n",
        "XDB.head(100)\n",
        "\n",
        "# Convertir la variable Gender a numérica (F:0, M:1)\n",
        "XDB[\"Gender\"] = XDB[\"Gender\"].map({\"F\": 0, \"M\": 1})\n",
        "\n",
        "# Seleccionar las variables\n",
        "XD = XDB[['Edu_Parent1', 'Edu_Parent2', 'Gender', 'White', 'Asian', 'HSGPA', 'SAT/ACT']]\n",
        "yd = XDB[['Admitted']]"
      ],
      "metadata": {
        "id": "o1Q5bfep7GMD"
      },
      "execution_count": null,
      "outputs": []
    },
    {
      "cell_type": "markdown",
      "source": [
        "1.1. Se determinan el número de personas que fueron admitidas a la Universidad"
      ],
      "metadata": {
        "id": "J-KyudTz7QGL"
      }
    },
    {
      "cell_type": "code",
      "source": [
        "# Convertir 'Yes' a 1 y 'No' a 0\n",
        "XDB[\"Admitted\"] = XDB[\"Admitted\"].map({\"Yes\": 1, \"No\": 0})\n",
        "\n",
        "# Ahora sí, contar los admitidos\n",
        "num_admitidos = XDB[\"Admitted\"].sum()\n",
        "print(f\"Número de personas admitidas: {num_admitidos}\")"
      ],
      "metadata": {
        "colab": {
          "base_uri": "https://localhost:8080/"
        },
        "id": "UUIPs4mL7Wjv",
        "outputId": "94c31493-0664-478e-f846-8d9655135101"
      },
      "execution_count": null,
      "outputs": [
        {
          "output_type": "stream",
          "name": "stdout",
          "text": [
            "Número de personas admitidas: 1303\n"
          ]
        }
      ]
    },
    {
      "cell_type": "markdown",
      "source": [
        "**Descripción de los datos**\n",
        "\n",
        "De acuerdo con la base de datos de admisión universitaria, esta posee un total de 1528 registros de estudiantes, divididos en 1303 admitidos y 225 no admitidos. Cada uno de los solicitantes de admisión está descrito en función de 7 variables socioeconómicas:\n",
        "\n",
        "**Edu_Parent1:** Nivel educativo alcanzado por el primer padre o tutor\n",
        "**Edu_Parent2:** Nivel educativo alcanzado por el segundo padre o tutor.\n",
        "**Gender:** Género del estudiante, representado numéricamente como 0 = Femenino, 1 = Masculino.\n",
        "**White:** Variable categórica que indica si el estudiante se identifica como blanco (1 = Sí, 0 = No).\n",
        "**Asian:** Variable categórica que indica si el estudiante se identifica como asiático (1 = Sí, 0 = No).\n",
        "**HSGPA:** Promedio de calificaciones del estudiante en la escuela secundaria.\n",
        "**SAT/ACT:** Puntaje obtenido en los exámenes estandarizados SAT o ACT.\n",
        "**Admitted:** Indica si el estudiante fue admitido en la universidad (1 = Sí, 0 = No).\n",
        "El análisis se centrará en estas variables para predecir la probabilidad de admisión mediante un modelo basado en árboles de decisión."
      ],
      "metadata": {
        "id": "YCH6aRHc8tXP"
      }
    },
    {
      "cell_type": "markdown",
      "source": [
        "2. Se procede con implementacion del modelo"
      ],
      "metadata": {
        "id": "xZ4xNfUdq_cg"
      }
    },
    {
      "cell_type": "code",
      "source": [
        "mar=DecisionTreeClassifier(criterion='gini', max_depth=4)\n",
        "mar.fit(XD,yd)\n",
        "\n",
        "#Se procede con la gráfica\n",
        "from pydotplus import graph_from_dot_data\n",
        "from sklearn.tree import export_graphviz\n",
        "\n",
        "ve=['Edu_Parent1','Edu_Parent2','Gender','White','Asian','HSGPA','SAT/ACT']\n",
        "dot_data=export_graphviz(mar, feature_names=ve)\n",
        "graph=graph_from_dot_data(dot_data)\n",
        "graph.write_png('Reto 2 Alejandro Mariaca.png')\n",
        "\n",
        "#SE DETERMINA EL NUMERO DE NODOS PUROS PARA EL ARBOL ASOCIADO CON LA ESTRUCTURA DEL MODELO\n",
        "num_nodos_puros = sum(mar.tree_.impurity == 0)\n",
        "print(f\"Número de nodos puros en el árbol (Gini = 0.0): {num_nodos_puros}\")"
      ],
      "metadata": {
        "colab": {
          "base_uri": "https://localhost:8080/"
        },
        "id": "el6hfez-7cl8",
        "outputId": "64ca28cb-2c13-493d-a0d4-e3fa2d43e226"
      },
      "execution_count": null,
      "outputs": [
        {
          "output_type": "stream",
          "name": "stdout",
          "text": [
            "Número de nodos puros en el árbol (Gini = 0.0): 7\n"
          ]
        }
      ]
    },
    {
      "cell_type": "markdown",
      "source": [
        "3. Se procede con el pronostico de los solicitantes que no fueron admitidos"
      ],
      "metadata": {
        "id": "dxr1FYAvOgiJ"
      }
    },
    {
      "cell_type": "code",
      "source": [
        "# Cargar la hoja de pronóstico\n",
        "XDB0 = pd.read_excel(nxl, sheet_name=1)\n",
        "\n",
        "# Convertir Gender a numérico\n",
        "XDB0[\"Gender\"] = XDB0[\"Gender\"].map({\"F\": 0, \"M\": 1})\n",
        "\n",
        "# Crear la base de datos para pronóstico\n",
        "XD0 = XDB0[['Edu_Parent1', 'Edu_Parent2', 'Gender', 'White', 'Asian', 'HSGPA', 'SAT/ACT']]\n",
        "yd0 = XDB0[['Admitted']]\n",
        "\n",
        "# Mantener todos los solicitantes\n",
        "filas = XDB0.index\n",
        "\n",
        "# Hacer la predicción\n",
        "y_pred = mar.predict(XD0)\n",
        "\n",
        "# Crear el informe en Excel\n",
        "df = pd.DataFrame(XD0)\n",
        "df[\"Admitted_Predicted\"] = y_pred\n",
        "df.insert(0, \"Solicitante\", filas)  # Agregar índice de solicitantes\n",
        "\n",
        "# Guardar en Excel\n",
        "df.to_excel(\"Pronostico Solicitantes No Admitidos.xlsx\", index=False)"
      ],
      "metadata": {
        "collapsed": true,
        "id": "JI-uVrmqOn8I"
      },
      "execution_count": null,
      "outputs": []
    },
    {
      "cell_type": "markdown",
      "source": [
        "4. Evaluar el comportamiento del modelo"
      ],
      "metadata": {
        "id": "oYtEv-mIPFMR"
      }
    },
    {
      "cell_type": "code",
      "source": [
        "ydp=mar.predict(XD) #Pronostico sobre la base de datos original\n",
        "cm=confusion_matrix(yd,ydp)\n",
        "print(\"La matriz de confusion es :\\n\",cm)\n",
        "\n",
        "VN=cm[0,0]\n",
        "FP=cm[0,1]\n",
        "FN=cm[1,0]\n",
        "VP=cm[1,1]\n",
        "\n",
        "Exactitud=(VP+VN)/(VP+VN+FP+FN)\n",
        "Sensibilidad=VP/(VP+FN)\n",
        "Especificidad=VN/(VN+FP)\n",
        "Precision=VP/(VP+FP)\n",
        "TasaError=(FP+FN)/(VP+VN+FP+FN)\n",
        "PredNeg=VN/(VN+FN)\n",
        "PredPos=VP/(VP+FP)\n",
        "\n",
        "print(\"La exactitud es: \",Exactitud)\n",
        "print(\"La sensibilidad es: \",Sensibilidad)\n",
        "print(\"La especificidad es: \",Especificidad)\n",
        "print(\"La precision es: \",Precision)\n",
        "print(\"La tasa de error es: \",TasaError)\n",
        "print(\"La cantidad de predicciones negativas es: \",PredNeg)\n",
        "print(\"La cantidad de predicciones positivas es: \",PredPos)"
      ],
      "metadata": {
        "colab": {
          "base_uri": "https://localhost:8080/"
        },
        "id": "vEP7A8S_PJkO",
        "outputId": "b479ef91-d51b-4bb5-f204-5848bba410b0"
      },
      "execution_count": null,
      "outputs": [
        {
          "output_type": "stream",
          "name": "stdout",
          "text": [
            "La matriz de confusion es :\n",
            " [[  20  205]\n",
            " [   2 1301]]\n",
            "La exactitud es:  0.8645287958115183\n",
            "La sensibilidad es:  0.9984650805832693\n",
            "La especificidad es:  0.08888888888888889\n",
            "La precision es:  0.8638778220451527\n",
            "La tasa de error es:  0.1354712041884817\n",
            "La cantidad de predicciones negativas es:  0.9090909090909091\n",
            "La cantidad de predicciones positivas es:  0.8638778220451527\n"
          ]
        }
      ]
    },
    {
      "cell_type": "markdown",
      "source": [
        "**Análisis de Resultados**\n",
        "\n",
        "El modelo de árbol de decisión aplicado a la base de datos de admisión universitaria mostró un desempeño sólido en la clasificación de los solicitantes. La matriz de confusión refleja un alto número de verdaderos positivos (1301) y verdaderos negativos (20), mientras que los falsos positivos (205) y falsos negativos (2) son significativamente menores. Esto indica que el modelo tiene un buen desempeño en la identificación de estudiantes admitidos, aunque su capacidad para detectar correctamente a los no admitidos es baja. La exactitud del modelo es del 86.45%, lo que significa que en aproximadamente 8 de cada 10 casos, la predicción del modelo es correcta. Sin embargo, la tasa de error del 13.54% sugiere que aún hay margen de mejora. Un aspecto relevante es la sensibilidad, que alcanza un valor de 99.84%, demostrando que el modelo es altamente eficiente para predecir correctamente a los estudiantes admitidos. En contraste, la especificidad es de apenas 8.89%, lo que indica que la capacidad del modelo para detectar correctamente a los estudiantes no admitidos es baja. En cuanto a la precisión, se obtuvo un 86.39%, lo que confirma que el modelo es confiable al predecir la admisión de un estudiante. Sin embargo, la precisión negativa (90.90%) sugiere que, aunque pocos estudiantes son clasificados erróneamente como admitidos, la baja especificidad puede afectar su utilidad en escenarios donde es crucial identificar correctamente a los no admitidos. En conclusión, el modelo presenta un desempeño destacado en la clasificación de estudiantes admitidos, pero su baja especificidad indica que no distingue con la misma eficacia a los rechazados. Esto sugiere que podría mejorarse ajustando hiperparámetros o considerando técnicas de balanceo de datos para mejorar la detección de los no admitidos sin afectar la sensibilidad del modelo."
      ],
      "metadata": {
        "id": "XPDf662CeCy1"
      }
    }
  ]
}