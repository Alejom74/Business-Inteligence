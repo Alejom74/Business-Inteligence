{
  "nbformat": 4,
  "nbformat_minor": 0,
  "metadata": {
    "colab": {
      "provenance": [],
      "authorship_tag": "ABX9TyNxEwJDRysuyW+Tyu1TETMT",
      "include_colab_link": true
    },
    "kernelspec": {
      "name": "python3",
      "display_name": "Python 3"
    },
    "language_info": {
      "name": "python"
    }
  },
  "cells": [
    {
      "cell_type": "markdown",
      "metadata": {
        "id": "view-in-github",
        "colab_type": "text"
      },
      "source": [
        "<a href=\"https://colab.research.google.com/github/Alejom74/Business-Inteligence/blob/main/Reto_1_Alejandro_Mariaca.ipynb\" target=\"_parent\"><img src=\"https://colab.research.google.com/assets/colab-badge.svg\" alt=\"Open In Colab\"/></a>"
      ]
    },
    {
      "cell_type": "code",
      "execution_count": null,
      "metadata": {
        "id": "UUnsnAWchx5h"
      },
      "outputs": [],
      "source": []
    },
    {
      "cell_type": "markdown",
      "source": [
        "0. Se procede a cargar las librerias de trabajo"
      ],
      "metadata": {
        "id": "hHVSr0tr2eAh"
      }
    },
    {
      "cell_type": "code",
      "source": [
        "import numpy as np\n",
        "import pandas as pd"
      ],
      "metadata": {
        "id": "50YRtS-02ihD"
      },
      "execution_count": null,
      "outputs": []
    },
    {
      "cell_type": "markdown",
      "source": [
        "1. Carga la base de datos"
      ],
      "metadata": {
        "id": "ZRvxvlzT2p8l"
      }
    },
    {
      "cell_type": "code",
      "source": [
        "nxl='/content/1. BD1_Longitudinal Survey NB.xlsx'\n",
        "XDB=pd.read_excel(nxl,sheet_name=1)\n",
        "XDB.head(100)\n",
        "\n",
        "# Se seleccionan las variables de interes\n",
        "XDB=XDB[['Age','Urban','Mother_Edu','Father_Edu','FamilySize','Self_Esteem','Height','Weight','Income']]\n",
        "XDB.head(10)\n",
        "\n",
        "# Eliminar filas con al menos un valor faltante\n",
        "XDB=XDB.dropna()\n",
        "\n",
        "# Se separan las variables de entrada y salida\n",
        "XD=XDB[['Age','Mother_Edu','Father_Edu','FamilySize','Self_Esteem','Height','Weight','Income']] #Variables de Entrada\n",
        "yd=XDB[['Urban']] #Variable de Salida\n",
        "\n",
        "#RESPUESTA PRIMERA PREGUNTA\n",
        "total_datos = XDB.shape[0]\n",
        "print(\"El número total de datos en la base de datos actualizada es:\", total_datos)\n",
        "\n",
        "#RESPUESTA SEGUNDA PREGUNTA\n",
        "# Porcentaje de cada categoría en Urban\n",
        "categories = XDB['Urban'].value_counts(normalize=True) * 100\n",
        "print('Porcentaje de datos en cada categoría:\\n', categories)\n",
        "\n",
        "#RESPUESTA SIGUIENTES PREGUNTAS\n",
        "# Intervalos de variación de Edad, Altura y Peso de las personas\n",
        "print('Rango de Edad', (XDB['Age'].min(), XDB['Age'].max()))\n",
        "print('Rango de Altura', (XDB['Height'].min(), XDB['Height'].max()))\n",
        "print('Rango de Peso', (XDB['Weight'].min(), XDB['Weight'].max()))\n"
      ],
      "metadata": {
        "colab": {
          "base_uri": "https://localhost:8080/"
        },
        "collapsed": true,
        "id": "nDijh0aL2tr4",
        "outputId": "4654d9fd-68f1-4bef-cb87-46047e8d523c"
      },
      "execution_count": null,
      "outputs": [
        {
          "output_type": "stream",
          "name": "stdout",
          "text": [
            "El número total de datos en la base de datos actualizada es: 5948\n",
            "Porcentaje de datos en cada categoría:\n",
            " Urban\n",
            "1.0    79.169469\n",
            "0.0    20.830531\n",
            "Name: proportion, dtype: float64\n",
            "Rango de Edad (15, 22)\n",
            "Rango de Altura (51.0, 80.0)\n",
            "Rango de Peso (72.0, 375.0)\n"
          ]
        }
      ]
    },
    {
      "cell_type": "markdown",
      "source": [
        "2. Se procede con la implementacion del modelo"
      ],
      "metadata": {
        "id": "Xm9CU1Ao4_cP"
      }
    },
    {
      "cell_type": "code",
      "source": [
        "from sklearn.naive_bayes import GaussianNB\n",
        "\n",
        "mnb=GaussianNB() #Aloja el Modelo\n",
        "mnb.fit(XD,yd) #Entrena el Modelo\n",
        "\n",
        "#Obtenemos la informacion del Modelo\n",
        "u=mnb.theta_ #Obtenemos la media de las variables socioeconomicas\n",
        "print(\"La media de los ingresos es :\\n\",u)\n",
        "var=mnb.var_ #Obtenemos la varianza de las variables socioeconomicas\n",
        "print(\"La varianza de los ingresos es :\\n\",var)\n",
        "sigma=np.sqrt(var) #Obtenemos la desviacion estandar de las variables socioeconomicas\n",
        "print(\"La desviacion estandar de los ingresos es :\\n\",sigma)\n",
        "\n",
        "#Se determinan los limites superiores e inferiores\n",
        "LS=u+sigma\n",
        "print(\"El limite superior es :\\n\",LS)\n",
        "LI=u-sigma\n",
        "print(\"El limite inferior es :\\n\",LI)\n",
        "\n",
        "#Evaluamos EL SOLICITANTE REQUERIDO\n",
        "XDS=[[34,12,15,2,24,69,160,48000]]\n",
        "ydp=mnb.predict(XDS) #Se obtiene la prediccion del modelo\n",
        "print(\"La prediccion del modelo es :\\n\",mnb.predict(XDS))\n",
        "\n",
        "if ydp==0:\n",
        "  print(\"La persona vive en Area Rural\")\n",
        "\n",
        "if ydp==1:\n",
        "  print(\"La persona vive en Area Urbana\")"
      ],
      "metadata": {
        "colab": {
          "base_uri": "https://localhost:8080/"
        },
        "id": "XrIakJvL5CfC",
        "outputId": "628b937e-5fed-40ac-8ddb-d04c2554147c"
      },
      "execution_count": null,
      "outputs": [
        {
          "output_type": "stream",
          "name": "stdout",
          "text": [
            "La media de los ingresos es :\n",
            " [[1.83640032e+01 1.07312349e+01 1.02711864e+01 4.73930589e+00\n",
            "  2.19951574e+01 6.72429379e+01 1.49003228e+02 3.01248854e+04]\n",
            " [1.83618603e+01 1.11613931e+01 1.12331705e+01 4.68103631e+00\n",
            "  2.25744319e+01 6.69116585e+01 1.44750903e+02 3.32736742e+04]]\n",
            "La varianza de los ingresos es :\n",
            " [[6.11377773e+00 9.96419474e+00 1.51194652e+01 6.51406931e+00\n",
            "  1.77789403e+01 1.66650620e+01 9.21039647e+02 1.00161093e+09]\n",
            " [6.11792319e+00 1.15645045e+01 1.69373304e+01 5.96364977e+00\n",
            "  1.76201044e+01 1.76562243e+01 9.01712618e+02 1.30246862e+09]]\n",
            "La desviacion estandar de los ingresos es :\n",
            " [[2.47260545e+00 3.15661127e+00 3.88837565e+00 2.55226748e+00\n",
            "  4.21650807e+00 4.08228636e+00 3.03486350e+01 3.16482374e+04]\n",
            " [2.47344359e+00 3.40066236e+00 4.11549881e+00 2.44205851e+00\n",
            "  4.19763081e+00 4.20193102e+00 3.00285301e+01 3.60897302e+04]]\n",
            "El limite superior es :\n",
            " [[2.08366087e+01 1.38878461e+01 1.41595621e+01 7.29157338e+00\n",
            "  2.62116655e+01 7.13252242e+01 1.79351863e+02 6.17731228e+04]\n",
            " [2.08353039e+01 1.45620554e+01 1.53486693e+01 7.12309482e+00\n",
            "  2.67720628e+01 7.11135895e+01 1.74779433e+02 6.93634044e+04]]\n",
            "El limite inferior es :\n",
            " [[ 1.58913978e+01  7.57462359e+00  6.38281079e+00  2.18703841e+00\n",
            "   1.77786493e+01  6.31606515e+01  1.18654593e+02 -1.52335198e+03]\n",
            " [ 1.58884167e+01  7.76073072e+00  7.11767172e+00  2.23897780e+00\n",
            "   1.83768011e+01  6.27097275e+01  1.14722372e+02 -2.81605593e+03]]\n",
            "La prediccion del modelo es :\n",
            " [1.]\n",
            "La persona vive en Area Urbana\n"
          ]
        },
        {
          "output_type": "stream",
          "name": "stderr",
          "text": [
            "/usr/local/lib/python3.11/dist-packages/sklearn/utils/validation.py:1408: DataConversionWarning: A column-vector y was passed when a 1d array was expected. Please change the shape of y to (n_samples, ), for example using ravel().\n",
            "  y = column_or_1d(y, warn=True)\n",
            "/usr/local/lib/python3.11/dist-packages/sklearn/utils/validation.py:2739: UserWarning: X does not have valid feature names, but GaussianNB was fitted with feature names\n",
            "  warnings.warn(\n",
            "/usr/local/lib/python3.11/dist-packages/sklearn/utils/validation.py:2739: UserWarning: X does not have valid feature names, but GaussianNB was fitted with feature names\n",
            "  warnings.warn(\n"
          ]
        }
      ]
    },
    {
      "cell_type": "markdown",
      "source": [
        "3. Evaluamos el desempeño del modelo"
      ],
      "metadata": {
        "id": "upnilFegiOyu"
      }
    },
    {
      "cell_type": "code",
      "source": [
        "from sklearn.metrics import confusion_matrix\n",
        "\n",
        "#Haga un barrido de los datos\n",
        "vdp2=mnb.predict(XD) #Haga el pronóstico para los datos base\n",
        "cm=confusion_matrix(yd,vdp2) #Cree la matriz de confusión\n",
        "print(\"La matriz de confusión es:\\n\",cm)\n",
        "VN=cm[0,0]\n",
        "FP=cm[0,1]\n",
        "FN=cm[1,0]\n",
        "VP=cm[1,1]\n",
        "\n",
        "#Metricas Desempeño\n",
        "Ex=(VP+VN)/(VP+VN+FP+FN) #Exactitud\n",
        "print(\"La exactitud del modelo es:\\n\",Ex)\n",
        "\n",
        "TE=(FN+FP)/(VP+VN+FP+FN) #Tasa de Error\n",
        "print(\"El error del modelo es:\\n\",TE)\n",
        "\n",
        "Se=VP/(VP+FN) #Sensibilidad\n",
        "              #Sobre el total de los urbanos\n",
        "print(\"La sensibilidad del modelo es:\\n\",Se)\n",
        "\n",
        "Sp=VN/(VN+FP) #Especificidad\n",
        "              #Sobre el total de los no urbanos (rurales)\n",
        "print(\"La especificidad del modelo es:\\n\",Sp)\n",
        "\n",
        "Ur=VP/(VP+FP) #Precisión\n",
        "             #Sobre el total del FP + VP pronóstico\n",
        "print(\"La precisión del modelo es:\\n\",Ur)\n",
        "\n",
        "Ru=VN/(VN+FN) #Precisión Negativa\n",
        "               #Sobre el total del FN + VN pronóstico\n",
        "print(\"La precisión negativa del modelo es:\\n\",Ru)"
      ],
      "metadata": {
        "colab": {
          "base_uri": "https://localhost:8080/"
        },
        "id": "AQkYxN2aiSNN",
        "outputId": "f2b7a70d-9028-4e8e-fcf9-e36eccfe6912"
      },
      "execution_count": null,
      "outputs": [
        {
          "output_type": "stream",
          "name": "stdout",
          "text": [
            "La matriz de confusión es:\n",
            " [[   3 1236]\n",
            " [   8 4701]]\n",
            "La exactitud del modelo es:\n",
            " 0.7908540685944856\n",
            "El error del modelo es:\n",
            " 0.20914593140551446\n",
            "La sensibilidad del modelo es:\n",
            " 0.9983011255043533\n",
            "La especificidad del modelo es:\n",
            " 0.002421307506053269\n",
            "La precisión del modelo es:\n",
            " 0.7918140474987367\n",
            "La precisión negativa del modelo es:\n",
            " 0.2727272727272727\n"
          ]
        }
      ]
    },
    {
      "cell_type": "markdown",
      "source": [
        "**Analisis de Resultados:**\n",
        "De acuerdo con la base de datos suministrada se tomaron como referencia para identificar si las personas viven en el Area Urbana o no (Rural) las variables socioeconómicas: Edad, Educación de los Padres, Estatura, Peso, Ingresos, Escala de Autoestima, Tamaño de la Familia. La base de datos posee un total de 5948 datos, el cual de este numero, el 79.16% de las personas viven en Áreas Urbanas y el porcentaje restante (20.83%) viven en Areas Rurales.  De manera general, el modelo alcanzo una Exactitud cercana al 80% en promedio (79.1%), lo que muestra un comportamiento bastante aceptable frente a la informacion de las personas que viven en Areas Urbanas. Tambien es importante mencionar que el modelo tiene una Especificidad del 0%, lo que muestra su pesimo comportamiento frente a las personas que viven en Áreas Rurales, implicaría que el modelo está clasificando erróneamente a muchas personas rurales como urbanas. Pero algo a resaltar que es muy positivo es el tema de la Sensibilidad (99%), en este caso, el valor alto de sensibilidad indica que el modelo es excelente para identificar correctamente a las personas que viven en área urbana. Este buen comportamiento fue promovido por el indice de precision el cual alcanzo un valor cercano al 80% en promedio (79%), lo que muestra el buen criterio del modelo frente a la información brindada con las personas que viven en Area Urbana."
      ],
      "metadata": {
        "id": "0A4WzOtWIgfd"
      }
    }
  ]
}